{
 "cells": [
  {
   "cell_type": "code",
   "execution_count": 1,
   "id": "b6111632-597c-4224-96bf-750199ccc80b",
   "metadata": {},
   "outputs": [],
   "source": [
    "# 加载库\n",
    "import os\n",
    "import pandas as pd\n",
    "import jieba  #中文分词工具，将中文文本分割成词语\n",
    "from collections import Counter #统计元素出现次数\n",
    "from wordcloud import WordCloud\n",
    "import matplotlib.pyplot as plt\n",
    "plt.rcParams['font.sans-serif'] = ['Arial Unicode MS'] # 用来正常显示中文标签\n",
    "plt.rcParams['axes.unicode_minus'] = False # 用来正常显示负号"
   ]
  },
  {
   "cell_type": "code",
   "execution_count": 3,
   "id": "759122a7-ef06-4541-b2cf-5fd79601ea6f",
   "metadata": {},
   "outputs": [],
   "source": [
    "import numpy as np\n",
    "from sklearn.feature_extraction.text import CountVectorizer, TfidfTransformer  #将文本转换为词频矩阵，文本特征提取工具\n",
    "from sklearn.manifold import TSNE  #降维工具\n",
    "from sklearn.cluster import KMeans  #聚类\n",
    "from collections import OrderedDict\n",
    "import re  #正则表达式库，用于处理和匹配字符串。\n",
    "import tempfile\n",
    "import pyLDAvis.gensim #主题模型分析"
   ]
  },
  {
   "cell_type": "code",
   "execution_count": 5,
   "id": "25e405eb-9908-4100-a639-9ad3c52852be",
   "metadata": {},
   "outputs": [],
   "source": [
    "#Gensim 主题模型库\n",
    "import gensim.corpora as corpora\n",
    "from gensim.utils import simple_preprocess\n",
    "from gensim.models import CoherenceModel\n",
    "import warnings\n",
    "warnings.filterwarnings('ignore')#禁用警告消息的语句"
   ]
  },
  {
   "cell_type": "code",
   "execution_count": 12,
   "id": "b10c1209-865f-4a62-8e9a-32a3808336f7",
   "metadata": {},
   "outputs": [
    {
     "name": "stdout",
     "output_type": "stream",
     "text": [
      "原始数据量: 120004\n",
      "去重-删除的数据数量： 16\n"
     ]
    }
   ],
   "source": [
    "# 步骤1：初始数据清洗\n",
    "# coding=utf-8\n",
    "# 数据去重\n",
    "import pandas as pd\n",
    "\n",
    "# 读取原始数据文件\n",
    "df = pd.read_csv('C:/Users/liyutong/Desktop/语义分析/语义判断/weibo_sentiment.csv', encoding='gbk')\n",
    "# 记录原始数据数量\n",
    "original_count = len(df)\n",
    "# 进行去重处理\n",
    "df_unique = df.drop_duplicates()\n",
    "# 计算删除的数据数量\n",
    "deleted_count = original_count - len(df_unique)\n",
    "print(\"原始数据量:\", original_count)\n",
    "print(\"去重-删除的数据数量：\", deleted_count)"
   ]
  },
  {
   "cell_type": "code",
   "execution_count": 15,
   "id": "20f5d230-c3b7-4954-9d57-31bea17cb5cf",
   "metadata": {},
   "outputs": [
    {
     "name": "stdout",
     "output_type": "stream",
     "text": [
      "删除的数据行： 0\n",
      "保留的数据行： 119988\n",
      "异常值比例： 0.0\n"
     ]
    }
   ],
   "source": [
    "import pandas as pd\n",
    "from sklearn.ensemble import IsolationForest\n",
    "\n",
    "# 读取数据文件\n",
    "data = df_unique\n",
    "\n",
    "# 选择数值型的列\n",
    "numeric_columns = data.select_dtypes(include=[float, int]).columns\n",
    "data_numeric = data[numeric_columns]\n",
    "\n",
    "# 构建孤立森林模型\n",
    "model = IsolationForest(n_estimators=100, contamination=0.1)\n",
    "\n",
    "# 拟合模型\n",
    "model.fit(data_numeric)\n",
    "\n",
    "# 进行离群值检测\n",
    "outliers = model.predict(data_numeric)\n",
    "\n",
    "# 将离群值标记为-1，正常值标记为1\n",
    "outliers[outliers == 1] = 0\n",
    "outliers[outliers == -1] = 1\n",
    "\n",
    "# 计算异常值比例\n",
    "outlier_ratio = sum(outliers) / len(outliers)\n",
    "retained_ratio = 1 - outlier_ratio\n",
    "\n",
    "# 输出删除的数据行、保留的数据行和异常值比例\n",
    "print(\"删除的数据行：\", sum(outliers))\n",
    "print(\"保留的数据行：\", len(outliers) - sum(outliers))\n",
    "print(\"异常值比例：\", outlier_ratio)"
   ]
  },
  {
   "cell_type": "code",
   "execution_count": 17,
   "id": "1328f44c-ce52-4ad3-958d-493ce9851562",
   "metadata": {},
   "outputs": [
    {
     "name": "stdout",
     "output_type": "stream",
     "text": [
      "保存成功！\n"
     ]
    }
   ],
   "source": [
    "# 为了本次实验的效率，保留其中4000条数据即可，负面评论2000条，正面评论2000条\n",
    "# 提取标签为 1 的前 2000 条数据\n",
    "data_label_1 = data[data['label'] == 1].head(2000)\n",
    "# 提取标签为 0 的前 2000 条数据\n",
    "data_label_0 = data[data['label'] == 0].head(2000)\n",
    "import pandas as pd\n",
    "# 合并提取出来的数据\n",
    "merged_data = pd.concat([data_label_1, data_label_0])\n",
    "# 保存合并后的数据到 CSV 文件\n",
    "merged_data.to_csv('weibo_sentiment_new.csv', index=False, encoding='gbk')\n",
    "\n",
    "print(\"保存成功！\")"
   ]
  },
  {
   "cell_type": "code",
   "execution_count": 19,
   "id": "886ba39c-1e98-4939-b711-71b1babc9826",
   "metadata": {},
   "outputs": [],
   "source": [
    "def count_word_freq_from_df(df, text_col, stopwords_file, save_path):\n",
    " \n",
    "    \"\"\"\n",
    "    统计指定列的文本数据中的词频\n",
    "    :param df: 包含文本数据的pandas DataFrame\n",
    "    :param text_col: 指定列的列名\n",
    "    :param stopwords_file: 停用词文件路径\n",
    "    :param save_path: 保存结果的Excel文件路径\n",
    "    :return: None\n",
    "    \"\"\"\n",
    "    # 读取停用词表\n",
    "    stopwords = set()\n",
    "    with open(stopwords_file, 'r', encoding='utf-8') as f:\n",
    "        for line in f:\n",
    "            stopwords.add(line.strip())\n",
    "\n",
    "    # 统计词频\n",
    "    word_freq = Counter()\n",
    "    for content in df[text_col]:\n",
    "        try:\n",
    "            words = jieba.cut(content)\n",
    "            for word in words:\n",
    "                if len(word) > 1 and word not in stopwords:\n",
    "                    word_freq[word] += 1\n",
    "        except:\n",
    "            continue\n",
    "\n",
    "    # 将结果保存到csv中\n",
    "    df = pd.DataFrame({'word': list(word_freq.keys()), 'freq': list(word_freq.values())})\n",
    "    df = df[df['word'].str.match('^[\\u4e00-\\u9fa5]+$')]  # 删除非汉字的词频\n",
    "    df.sort_values(by='freq', ascending=False, inplace=True)\n",
    "    df.to_csv(save_path, index=False,encoding='gbk')"
   ]
  },
  {
   "cell_type": "code",
   "execution_count": 28,
   "id": "5e8134db-67e3-441b-8912-b846d84fe7e7",
   "metadata": {},
   "outputs": [
    {
     "name": "stdout",
     "output_type": "stream",
     "text": [
      "词频.csv-保存成功!\n",
      "词频1.csv-保存成功!\n",
      "词频0.csv-保存成功!\n"
     ]
    }
   ],
   "source": [
    "df=pd.read_csv('weibo_sentiment_new.csv',encoding='gbk')\n",
    "count_word_freq_from_df(df, 'review', 'C:/Users/liyutong/Desktop/语义分析/语义判断/baidu_stopwords.txt', '词频.csv')\n",
    "print('词频.csv-保存成功!')\n",
    "count_word_freq_from_df(data_label_1,'review', 'C:/Users/liyutong/Desktop/语义分析/语义判断/baidu_stopwords.txt', '词频1.csv')\n",
    "print('词频1.csv-保存成功!')\n",
    "count_word_freq_from_df(data_label_0,'review', 'C:/Users/liyutong/Desktop/语义分析/语义判断/baidu_stopwords.txt', '词频0.csv')\n",
    "print('词频0.csv-保存成功!')"
   ]
  },
  {
   "cell_type": "code",
   "execution_count": null,
   "id": "620a3aa3-76d1-4626-9bb5-4416fe2c401f",
   "metadata": {},
   "outputs": [],
   "source": [
    "## 步骤2.2：定义一个函数，传入一个词频数据文件作为参数，数据格式为列表，\n",
    "#每个元素是一个元组，元组的第一个元素是词语，第二个元素是该词语的频率。\n",
    "#然后，函数根据词频数据生成词云图，并将结果保存为 wordcloud.png 文件，并在绘图结束后显示词云图。"
   ]
  },
  {
   "cell_type": "code",
   "execution_count": 30,
   "id": "2b6e14b7-6dbb-4975-9de2-7fca3bb047a1",
   "metadata": {},
   "outputs": [],
   "source": [
    "def draw_wordcloud(data):\n",
    "    \"\"\"\n",
    "    根据词频数据绘制词云图\n",
    "    :param data: 词频数据，格式为[(word1, freq1), (word2, freq2), ...]\n",
    "    :return: None\n",
    "    \"\"\"\n",
    "    wordcloud = WordCloud(font_path='SimHei.ttf', background_color='white',max_words=300, width=1000, height=800)\n",
    "    wordcloud.fit_words(dict(data))\n",
    "    plt.figure(figsize=(16, 12),dpi=300)\n",
    "    plt.imshow(wordcloud)\n",
    "    plt.axis('off')\n",
    "    plt.savefig('wordcloud.png', dpi=300)\n",
    "    plt.show()"
   ]
  },
  {
   "cell_type": "code",
   "execution_count": null,
   "id": "71b44f5c-efc7-4051-8213-649faedfa134",
   "metadata": {},
   "outputs": [],
   "source": [
    "## # 步骤2.3：调用count_word_freq_from_df方法，对步骤步骤1当中处理后的数据，统计指定列的文本数据中每个词的出现频率，\n",
    "## 同时过滤掉长度为 1 的词和停用词。并将词频数据结果保存到：词频.csv文件当中\n",
    "# 调用：draw_wordcloud方法：读取词频.csv文件，根据词频数据生成词云图，并将结果保存为 wordcloud.png 文件，并在绘图结束后显示词云图。"
   ]
  },
  {
   "cell_type": "code",
   "execution_count": null,
   "id": "a8ff5ef8-863f-4040-87c9-3814c44e14a3",
   "metadata": {},
   "outputs": [],
   "source": []
  },
  {
   "cell_type": "code",
   "execution_count": null,
   "id": "131a8718-b598-4715-8c6f-cf3e7c16d794",
   "metadata": {},
   "outputs": [],
   "source": [
    "# 模块3:步骤3.1：定义一个函数,进行中文文本的预处理：去除一些无用的字符只提取出中文出来，分词操作：把文本分割成词语，将所有可能的词语全部列出来。\n",
    "# 并且加载了一个停用词库，通过读取 baidu_stopwords.txt 文件，并将停用词存储在一个集合中。然后在分词结果中去除停用词，只保留不在停用词库中且长度大于1的词语。并将处理后的结果存储到 DataFrame对象当中\n",
    "# 调用分词函数,对步骤1处理后的df进行处理,提取出符合规范的词语.并且把所有的分词结果保存到corpus列表当中"
   ]
  },
  {
   "cell_type": "code",
   "execution_count": 34,
   "id": "ea10d833-0e21-4a91-8b93-92cc42a90cfb",
   "metadata": {},
   "outputs": [
    {
     "data": {
      "text/html": [
       "<div>\n",
       "<style scoped>\n",
       "    .dataframe tbody tr th:only-of-type {\n",
       "        vertical-align: middle;\n",
       "    }\n",
       "\n",
       "    .dataframe tbody tr th {\n",
       "        vertical-align: top;\n",
       "    }\n",
       "\n",
       "    .dataframe thead th {\n",
       "        text-align: right;\n",
       "    }\n",
       "</style>\n",
       "<table border=\"1\" class=\"dataframe\">\n",
       "  <thead>\n",
       "    <tr style=\"text-align: right;\">\n",
       "      <th></th>\n",
       "      <th>label</th>\n",
       "      <th>review</th>\n",
       "      <th>分词结果</th>\n",
       "    </tr>\n",
       "  </thead>\n",
       "  <tbody>\n",
       "    <tr>\n",
       "      <th>0</th>\n",
       "      <td>1</td>\n",
       "      <td>?更博了，爆照了，帅的呀，就是越来越爱你！生快傻缺[爱你][爱你][爱你]</td>\n",
       "      <td>越来 越来越</td>\n",
       "    </tr>\n",
       "    <tr>\n",
       "      <th>1</th>\n",
       "      <td>1</td>\n",
       "      <td>@张晓鹏jonathan 土耳其的事要认真对待[哈哈]，否则直接开除。@丁丁看世界 很是细心...</td>\n",
       "      <td>土耳其 认真对待 真对 对待 开除 丁丁 世界 细心 酒店</td>\n",
       "    </tr>\n",
       "    <tr>\n",
       "      <th>2</th>\n",
       "      <td>1</td>\n",
       "      <td>姑娘都羡慕你呢…还有招财猫高兴……//@爱在蔓延-JC:[哈哈]小学徒一枚，等着明天见您呢/...</td>\n",
       "      <td>姑娘 羡慕 招财 招财猫 蔓延 小学 学徒 一枚 明天 大佬 书呆 书呆子 呆子</td>\n",
       "    </tr>\n",
       "    <tr>\n",
       "      <th>3</th>\n",
       "      <td>1</td>\n",
       "      <td>美~~~~~[爱你]</td>\n",
       "      <td></td>\n",
       "    </tr>\n",
       "    <tr>\n",
       "      <th>4</th>\n",
       "      <td>1</td>\n",
       "      <td>梦想有多大，舞台就有多大![鼓掌]</td>\n",
       "      <td>梦想 想有 舞台 鼓掌</td>\n",
       "    </tr>\n",
       "  </tbody>\n",
       "</table>\n",
       "</div>"
      ],
      "text/plain": [
       "   label                                             review  \\\n",
       "0      1              ?更博了，爆照了，帅的呀，就是越来越爱你！生快傻缺[爱你][爱你][爱你]   \n",
       "1      1  @张晓鹏jonathan 土耳其的事要认真对待[哈哈]，否则直接开除。@丁丁看世界 很是细心...   \n",
       "2      1  姑娘都羡慕你呢…还有招财猫高兴……//@爱在蔓延-JC:[哈哈]小学徒一枚，等着明天见您呢/...   \n",
       "3      1                                         美~~~~~[爱你]   \n",
       "4      1                                  梦想有多大，舞台就有多大![鼓掌]   \n",
       "\n",
       "                                       分词结果  \n",
       "0                                    越来 越来越  \n",
       "1             土耳其 认真对待 真对 对待 开除 丁丁 世界 细心 酒店  \n",
       "2  姑娘 羡慕 招财 招财猫 蔓延 小学 学徒 一枚 明天 大佬 书呆 书呆子 呆子  \n",
       "3                                            \n",
       "4                               梦想 想有 舞台 鼓掌  "
      ]
     },
     "execution_count": 34,
     "metadata": {},
     "output_type": "execute_result"
    }
   ],
   "source": [
    "def chinese_word_cut(mytext):\n",
    "    # 文本预处理 ：去除一些无用的字符只提取出中文出来\n",
    "    new_data = re.findall('[\\u4e00-\\u9fa5]+', mytext, re.S)\n",
    "    new_data = \" \".join(new_data)\n",
    "    # 文本分词\n",
    "    seg_list_exact = jieba.cut(new_data, cut_all=True)\n",
    "    result_list = []\n",
    "    # 加载停用词库\n",
    "    with open('C:/Users/liyutong/Desktop/语义分析/语义判断/baidu_stopwords.txt', encoding='utf-8') as f: # 可根据需要打开停用词库，然后加上不想显示的词语\n",
    "        stop_words = set()\n",
    "        for i in f.readlines():\n",
    "            stop_words.add(i.replace(\"\\n\", \"\")) # 去掉读取每一行数据的\\n\n",
    "    # 去除停用词\n",
    "    for word in seg_list_exact:\n",
    "        if word not in stop_words and len(word) > 1:\n",
    "            result_list.append(word)\n",
    "    return \" \".join(result_list)\n",
    "\n",
    "df['分词结果'] = df['review'].apply(chinese_word_cut)\n",
    "\n",
    "df.head()"
   ]
  },
  {
   "cell_type": "code",
   "execution_count": 36,
   "id": "086d97f4-d4c4-46e6-b0db-4b1ee2ed8d03",
   "metadata": {},
   "outputs": [],
   "source": [
    "df=df[['label','review','分词结果']]\n",
    "df.to_csv('weibo_sentiment_fc.csv',encoding='gbk',index=False)"
   ]
  },
  {
   "cell_type": "code",
   "execution_count": 38,
   "id": "475951e2-0ed0-43f1-8ce1-1ba3875226a6",
   "metadata": {},
   "outputs": [
    {
     "data": {
      "text/plain": [
       "['越来 越来越',\n",
       " '土耳其 认真对待 真对 对待 开除 丁丁 世界 细心 酒店',\n",
       " '姑娘 羡慕 招财 招财猫 蔓延 小学 学徒 一枚 明天 大佬 书呆 书呆子 呆子',\n",
       " '',\n",
       " '梦想 想有 舞台 鼓掌',\n",
       " '花心 鼓掌 懒猫 春暖花开 花开',\n",
       " '问答 社区 上收 收到 一大 大学 大学生 学生 生发 发给 私信 喜欢 阿姨 阿姨 阿姨 稀饭',\n",
       " '吃货 无不 啧啧 啧啧称奇 称奇 喜欢 写错 一个 森林 小天使 天使 厦门 摄影 摄影师 日月 日月星 日月星辰 星辰 路上 每种 型号 两胎 志远 远天 天下 下行 监控 防盗 安装 创意 美食 漫游 漫游者 游者 强子 游子 厦门',\n",
       " '享受 生活 微笑 呵呵 嘻嘻 挤眼 开心 早安 甜心',\n",
       " '霍思燕 剖腹 剖腹产 产下 老公 落泪 今晨 霍思燕 产下 一名 男婴 宝宝 母子 平安 脸上 洋溢 洋溢着 爸爸 欣喜 宝宝 小名 名叫 眼睛 鼻子 嘴巴 霍思燕 宝贝 忍不住 不住 落泪 恭喜 侦察 霍思燕 祝福 健康 成长']"
      ]
     },
     "execution_count": 38,
     "metadata": {},
     "output_type": "execute_result"
    }
   ],
   "source": [
    "corpus=[]\n",
    "a=[]\n",
    "for i in range(len(df['分词结果'])):\n",
    "    try:\n",
    "        a=df['分词结果'][i]\n",
    "        corpus.append(a)\n",
    "    except:\n",
    "        # print(i)\n",
    "        continue\n",
    "corpus[0:10]"
   ]
  },
  {
   "cell_type": "code",
   "execution_count": 40,
   "id": "c100917d-20a4-4665-bbc0-a92ff9438e6c",
   "metadata": {},
   "outputs": [
    {
     "data": {
      "text/plain": [
       "4000"
      ]
     },
     "execution_count": 40,
     "metadata": {},
     "output_type": "execute_result"
    }
   ],
   "source": [
    "len(corpus)"
   ]
  },
  {
   "cell_type": "code",
   "execution_count": 42,
   "id": "b1bf063a-9216-4df6-a405-58b48facb9a0",
   "metadata": {},
   "outputs": [
    {
     "name": "stdout",
     "output_type": "stream",
     "text": [
      "  (0, 15700)\t0.7071067811865475\n",
      "  (0, 15699)\t0.7071067811865475\n",
      "  (1, 16373)\t0.21311858025761277\n",
      "  (1, 13680)\t0.3582541142349978\n",
      "  (1, 858)\t0.23110660510681313\n",
      "  (1, 292)\t0.3359246409130943\n",
      "  (1, 7348)\t0.37597801431603894\n",
      "  (1, 6455)\t0.32795490691967294\n",
      "  (1, 12829)\t0.37597801431603894\n",
      "  (1, 15222)\t0.37597801431603894\n",
      "  (1, 4926)\t0.3582541142349978\n",
      "  (2, 4404)\t0.28651410483805606\n",
      "  (2, 1288)\t0.2948335486199699\n",
      "  (2, 1287)\t0.2948335486199699\n",
      "  (2, 5305)\t0.30555917709872876\n",
      "  (2, 9632)\t0.1926470217856936\n",
      "  (2, 160)\t0.26459970002728866\n",
      "  (2, 6124)\t0.2948335486199699\n",
      "  (2, 6561)\t0.2606715520629566\n",
      "  (2, 14795)\t0.32067610139506936\n",
      "  (2, 8591)\t0.30555917709872876\n",
      "  (2, 8590)\t0.28651410483805606\n",
      "  (2, 13932)\t0.24812688366336055\n",
      "  (2, 5992)\t0.2209760239231544\n",
      "  (4, 17729)\t0.2569565450635395\n",
      "  :\t:\n",
      "  (3997, 8267)\t0.19699538242153616\n",
      "  (3997, 4165)\t0.24111123952274138\n",
      "  (3997, 12)\t0.11627666221729203\n",
      "  (3998, 11181)\t0.4910459112489163\n",
      "  (3998, 157)\t0.41319916429691905\n",
      "  (3998, 8026)\t0.3946161823641985\n",
      "  (3998, 4439)\t0.657585304189772\n",
      "  (3999, 7898)\t0.2415747255440388\n",
      "  (3999, 7897)\t0.2415747255440388\n",
      "  (3999, 8968)\t0.2415747255440388\n",
      "  (3999, 15110)\t0.2415747255440388\n",
      "  (3999, 15111)\t0.2415747255440388\n",
      "  (3999, 17102)\t0.2415747255440388\n",
      "  (3999, 12713)\t0.2415747255440388\n",
      "  (3999, 13934)\t0.21583949018850573\n",
      "  (3999, 5770)\t0.20263881752443372\n",
      "  (3999, 13188)\t0.23018670248254028\n",
      "  (3999, 7611)\t0.22210677153423627\n",
      "  (3999, 13846)\t0.2107187484727377\n",
      "  (3999, 9031)\t0.23018670248254028\n",
      "  (3999, 9030)\t0.2063892230420311\n",
      "  (3999, 12394)\t0.16847474833993806\n",
      "  (3999, 13288)\t0.22210677153423627\n",
      "  (3999, 15109)\t0.38250158892587033\n",
      "  (3999, 2638)\t0.19369462390215367\n"
     ]
    },
    {
     "data": {
      "text/plain": [
       "['tfidf_vectorizer.pkl']"
      ]
     },
     "execution_count": 42,
     "metadata": {},
     "output_type": "execute_result"
    }
   ],
   "source": [
    "from sklearn.feature_extraction.text import TfidfVectorizer\n",
    "import joblib\n",
    "# 创建一个 TfidfVectorizer 对象\n",
    "tfidf_vectorizer = TfidfVectorizer()\n",
    "# 对分词结果进行 TF-IDF 加权处理\n",
    "tfidf_matrix = tfidf_vectorizer.fit_transform(corpus)  # corpus 是你的文本数据\n",
    "# 输出 TF-IDF 加权后的结果\n",
    "print(tfidf_matrix)\n",
    "# 将 tfidf_vectorizer 对象保存为文件\n",
    "joblib.dump(tfidf_vectorizer, 'tfidf_vectorizer.pkl')"
   ]
  },
  {
   "cell_type": "code",
   "execution_count": 44,
   "id": "529eeecd-cf8e-46b2-94a0-7674d94636aa",
   "metadata": {},
   "outputs": [],
   "source": [
    "plt.rcParams['xtick.bottom'] = True  # 设置横轴刻度线可见\n",
    "plt.rcParams['ytick.left'] = True  # 设置纵轴刻度线可见\n",
    "plt.rcParams['figure.autolayout'] = True  #自动tight布局，解决多个plots出现重叠问题\n",
    "plt.rcParams['axes.unicode_minus'] = False  # 解决负号显示问题\n",
    "plt.rcParams['font.sans-serif'] = ['Microsoft YaHei']  # 解决中文显示问题\n",
    "plt.rcParams['figure.dpi'] = 100  # 设备图形分辨率"
   ]
  },
  {
   "cell_type": "code",
   "execution_count": 46,
   "id": "dc2b15f2-ff06-46b6-a0d4-7b7344fd5480",
   "metadata": {},
   "outputs": [
    {
     "name": "stdout",
     "output_type": "stream",
     "text": [
      "              precision    recall  f1-score   support\n",
      "\n",
      "           0       0.71      0.85      0.78       378\n",
      "           1       0.84      0.69      0.76       422\n",
      "\n",
      "    accuracy                           0.77       800\n",
      "   macro avg       0.78      0.77      0.77       800\n",
      "weighted avg       0.78      0.77      0.77       800\n",
      "\n"
     ]
    },
    {
     "data": {
      "image/png": "[encoded data removed]",
      "text/plain": [
       "<Figure size 640x480 with 2 Axes>"
      ]
     },
     "metadata": {},
     "output_type": "display_data"
    },
    {
     "data": {
      "text/plain": [
       "['svm_model.pkl']"
      ]
     },
     "execution_count": 46,
     "metadata": {},
     "output_type": "execute_result"
    }
   ],
   "source": [
    "from sklearn.svm import SVC\n",
    "from sklearn.metrics import classification_report, confusion_matrix\n",
    "import joblib\n",
    "import matplotlib.pyplot as plt\n",
    "import seaborn as sns\n",
    "\n",
    "from sklearn.model_selection import train_test_split\n",
    "\n",
    "#  tfidf_matrix 是经过 TF-IDF 加权后的稀疏矩阵，labels 是对应的标签\n",
    "#  labels 包含了 0 和 1 两种类别（负面和正面情感）\n",
    "# 划分训练集和测试集\n",
    "X_train, X_test, y_train, y_test = train_test_split(tfidf_matrix, df['label'], test_size=0.2, random_state=42)\n",
    "# 创建 SVM 分类器\n",
    "svm_classifier = SVC(kernel='linear')\n",
    "# 训练 SVM 模型\n",
    "svm_classifier.fit(X_train, y_train)\n",
    "# 在测试集上进行预测\n",
    "y_pred = svm_classifier.predict(X_test)\n",
    "# 输出分类报告\n",
    "print(classification_report(y_test, y_pred))\n",
    "# 输出混淆矩阵\n",
    "conf_mat = confusion_matrix(y_test, y_pred)\n",
    "sns.heatmap(conf_mat, annot=True, fmt='d', cmap=\"YlGnBu\")\n",
    "plt.xlabel('预测')\n",
    "plt.ylabel('实际')\n",
    "plt.show()\n",
    "# 保存训练好的模型\n",
    "joblib.dump(svm_classifier, 'svm_model.pkl')\n"
   ]
  },
  {
   "cell_type": "code",
   "execution_count": 48,
   "id": "d9bf529b-f96b-45a2-83ed-cafa83ce1b4e",
   "metadata": {},
   "outputs": [
    {
     "name": "stdout",
     "output_type": "stream",
     "text": [
      "准确率：76.62%\n"
     ]
    }
   ],
   "source": [
    "from sklearn.metrics import accuracy_score\n",
    "# 单独输出准确率\n",
    "accuracy = accuracy_score(y_test, y_pred)\n",
    "print(\"准确率：{:.2f}%\".format(accuracy*100))"
   ]
  },
  {
   "cell_type": "code",
   "execution_count": 50,
   "id": "65997c02-6bfd-4278-bef0-c6a9d77f5ebb",
   "metadata": {},
   "outputs": [
    {
     "name": "stdout",
     "output_type": "stream",
     "text": [
      "              precision    recall  f1-score   support\n",
      "\n",
      "           0       0.68      0.80      0.73       378\n",
      "           1       0.79      0.66      0.72       422\n",
      "\n",
      "    accuracy                           0.72       800\n",
      "   macro avg       0.73      0.73      0.72       800\n",
      "weighted avg       0.73      0.72      0.72       800\n",
      "\n"
     ]
    },
    {
     "data": {
      "image/png": "[encoded data removed]",
      "text/plain": [
       "<Figure size 640x480 with 2 Axes>"
      ]
     },
     "metadata": {},
     "output_type": "display_data"
    },
    {
     "name": "stdout",
     "output_type": "stream",
     "text": [
      "决策树模型准确率：72.50%\n"
     ]
    }
   ],
   "source": [
    "from sklearn.tree import DecisionTreeClassifier\n",
    "\n",
    "# 创建决策树分类器\n",
    "dt_classifier = DecisionTreeClassifier()\n",
    "# 训练决策树模型\n",
    "dt_classifier.fit(X_train, y_train)\n",
    "# 在测试集上进行预测\n",
    "y_pred_dt = dt_classifier.predict(X_test)\n",
    "# 输出分类报告\n",
    "print(classification_report(y_test, y_pred_dt))\n",
    "# 输出混淆矩阵\n",
    "conf_mat_dt = confusion_matrix(y_test, y_pred_dt)\n",
    "sns.heatmap(conf_mat_dt, annot=True, fmt='d', cmap=\"YlGnBu\")\n",
    "plt.xlabel('预测')\n",
    "plt.ylabel('实际')\n",
    "plt.show()\n",
    "# 保存训练好的决策树模型\n",
    "joblib.dump(dt_classifier, 'decision_tree_model.pkl')\n",
    "# 单独输出决策树模型的准确率\n",
    "accuracy_dt = accuracy_score(y_test, y_pred_dt)\n",
    "print(\"决策树模型准确率：{:.2f}%\".format(accuracy_dt*100))\n"
   ]
  },
  {
   "cell_type": "code",
   "execution_count": null,
   "id": "73375e72-7cbe-4bc5-a19e-8e25eaedffc3",
   "metadata": {},
   "outputs": [],
   "source": []
  },
  {
   "cell_type": "code",
   "execution_count": null,
   "id": "7e3460c3-cd59-45b2-882a-1bd5f3296506",
   "metadata": {},
   "outputs": [],
   "source": []
  },
  {
   "cell_type": "code",
   "execution_count": null,
   "id": "ef34e5d5-7421-4fa9-9727-7cc13447db18",
   "metadata": {},
   "outputs": [],
   "source": []
  }
 ],
 "metadata": {
  "kernelspec": {
   "display_name": "Python 3 (ipykernel)",
   "language": "python",
   "name": "python3"
  },
  "language_info": {
   "codemirror_mode": {
    "name": "ipython",
    "version": 3
   },
   "file_extension": ".py",
   "mimetype": "text/x-python",
   "name": "python",
   "nbconvert_exporter": "python",
   "pygments_lexer": "ipython3",
   "version": "3.12.4"
  }
 },
 "nbformat": 4,
 "nbformat_minor": 5
}
